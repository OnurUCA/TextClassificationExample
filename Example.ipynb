{
 "cells": [
  {
   "cell_type": "code",
   "execution_count": 2,
   "metadata": {},
   "outputs": [
    {
     "name": "stdout",
     "output_type": "stream",
     "text": [
      "                                            Sentence  NegPos\n",
      "0  Ürünü kargo teslim süresi içerisinde teslim al...       0\n",
      "1  Elime ulaştığı ilk gün kullanmaya başladım bir...       0\n",
      "2  İncecik bir ssd disk a3 zarf içerisine konur m...       0\n",
      "3  İlanda ürün korea yazıyor gelen ürün cin malı ...       0\n",
      "4  Büyük hevesle almama rağmen ürün bozuk çıktı.....       0\n",
      "5  Fiyat performans ve güncel sayılabilecek işlet...       1\n",
      "6            Güzel fp ürünü çok memnun kaldım tskler       1\n",
      "7  Macbook Pro mid. 2012 bilgisayarım için aldım....       1\n",
      "8  Windows10 sıfırdan yüklemesi 1dk sürdü pc açıl...       1\n",
      "9  Bilgisayar şuan aldığımdan 5 kat daha hızlı. A...       1\n"
     ]
    }
   ],
   "source": [
    "import pandas as pd \n",
    "data = pd.read_csv(\"ornek_dataset.txt\", engine='python')\n",
    "print(data)"
   ]
  },
  {
   "cell_type": "code",
   "execution_count": 3,
   "metadata": {},
   "outputs": [
    {
     "name": "stdout",
     "output_type": "stream",
     "text": [
      "['Ürünü kargo teslim süresi içerisinde teslim aldım. Aldığım ürün ekranin sağ ve sol iki taratan yukarıdan aşağıya doğru ince ince beyaz noktalar çizgi halinde. Bundan ötürü memnun kalmadım ürünü iade edip değiştirilmesini istiyorum.', 'Elime ulaştığı ilk gün kullanmaya başladım bir kaç saat içinde alet kapandı ve açılmadı. Amazona olan güvenim sarsıldı..', 'İncecik bir ssd disk a3 zarf içerisine konur mu? İlk defa böyle birşey gördüm. Cihaz ezilmiş ve yamulmuş halde geldi.', 'İlanda ürün korea yazıyor gelen ürün cin malı yazıyor ürün hiç çalışmadı yani arızalı çıktı geri iade edeceğim', 'Büyük hevesle almama rağmen ürün bozuk çıktı..iade edilmesine rağmen param hala yatmadı', 'Fiyat performans ve güncel sayılabilecek işletim sistemi ile güzel tablet.', 'Güzel fp ürünü çok memnun kaldım tskler', 'Macbook Pro mid. 2012 bilgisayarım için aldım. Bilgisayarımın açılış ve kullanım hızı oldukça arttı. Ürün gerçekten çok kaliteli. Piyasadaki en iyi fiyatı sunan Amazon.com.tr ye teşekkürler.', 'Windows10 sıfırdan yüklemesi 1dk sürdü pc açılısı 1 sn sürüyor varın hızını siz hesap edin. 250gb yerine 500 gb alınabilir', 'Bilgisayar şuan aldığımdan 5 kat daha hızlı. Ayrıyeten PC den çıkan harddiskiniz için harddisk kutusu alıp takın harici olarak taşıyın. Veya CD rom yerine şuanki harddiskinizi takıp ikisini de kullanabilirsiniz.']\n",
      "[0, 0, 0, 0, 0, 1, 1, 1, 1, 1]\n"
     ]
    }
   ],
   "source": [
    "sentences_training = [doc for doc in data.iloc[:,0]]\n",
    "classification_training = [doc for doc in data.iloc[:,1]]\n",
    "print(sentences_training)\n",
    "print(classification_training)"
   ]
  },
  {
   "cell_type": "code",
   "execution_count": 4,
   "metadata": {},
   "outputs": [],
   "source": [
    "from sklearn.feature_extraction.text import TfidfVectorizer\n",
    "vectorizer = TfidfVectorizer(analyzer='word', lowercase = True)"
   ]
  },
  {
   "cell_type": "code",
   "execution_count": 6,
   "metadata": {},
   "outputs": [
    {
     "name": "stdout",
     "output_type": "stream",
     "text": [
      "[[0.         0.         0.         ... 0.28463598 0.         0.        ]\n",
      " [0.         0.         0.         ... 0.         0.         0.        ]\n",
      " [0.         0.         0.         ... 0.         0.         0.        ]\n",
      " ...\n",
      " [0.         0.19627544 0.         ... 0.         0.         0.        ]\n",
      " [0.23283969 0.         0.23283969 ... 0.         0.         0.        ]\n",
      " [0.         0.         0.         ... 0.         0.18841794 0.18841794]]\n"
     ]
    }
   ],
   "source": [
    "sen_train_vector = vectorizer.fit_transform(sentences_training)\n",
    "print(sen_train_vector.toarray())"
   ]
  },
  {
   "cell_type": "code",
   "execution_count": 8,
   "metadata": {},
   "outputs": [],
   "source": [
    "from sklearn.naive_bayes import GaussianNB"
   ]
  },
  {
   "cell_type": "code",
   "execution_count": 9,
   "metadata": {},
   "outputs": [],
   "source": [
    "clf = GaussianNB()\n",
    "model = clf.fit(X=sen_train_vector.toarray(), y=classification_training)"
   ]
  },
  {
   "cell_type": "code",
   "execution_count": 10,
   "metadata": {},
   "outputs": [],
   "source": [
    "sen_test_vector = vectorizer.transform(['bu kadar kötü bir ürün görmedim'])\n",
    "#print(sen_test_vector.toarray())\n",
    "y_pred = model.predict(sen_test_vector.toarray())"
   ]
  },
  {
   "cell_type": "code",
   "execution_count": 11,
   "metadata": {},
   "outputs": [
    {
     "name": "stdout",
     "output_type": "stream",
     "text": [
      "[0]\n"
     ]
    }
   ],
   "source": [
    "print(y_pred)"
   ]
  },
  {
   "cell_type": "code",
   "execution_count": 13,
   "metadata": {},
   "outputs": [
    {
     "name": "stdout",
     "output_type": "stream",
     "text": [
      "[1]\n"
     ]
    }
   ],
   "source": [
    "sen_test_vector = vectorizer.transform(['iyi bir ürünmüş.'])\n",
    "y_pred = model.predict(sen_test_vector.toarray())\n",
    "print(y_pred)"
   ]
  },
  {
   "cell_type": "code",
   "execution_count": null,
   "metadata": {},
   "outputs": [],
   "source": []
  }
 ],
 "metadata": {
  "kernelspec": {
   "display_name": "Python 3",
   "language": "python",
   "name": "python3"
  },
  "language_info": {
   "codemirror_mode": {
    "name": "ipython",
    "version": 3
   },
   "file_extension": ".py",
   "mimetype": "text/x-python",
   "name": "python",
   "nbconvert_exporter": "python",
   "pygments_lexer": "ipython3",
   "version": "3.7.4"
  }
 },
 "nbformat": 4,
 "nbformat_minor": 2
}
